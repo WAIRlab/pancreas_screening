{
 "cells": [
  {
   "cell_type": "code",
   "execution_count": 1,
   "id": "b0a1bb9e",
   "metadata": {},
   "outputs": [],
   "source": [
    "import os\n",
    "import pandas as pd\n",
    "import numpy as np\n",
    "from sklearn.metrics import roc_auc_score\n",
    "from sklearn.linear_model import LinearRegression\n",
    "import matplotlib.pyplot as plt\n",
    "\n",
    "import xgboost as xgb\n",
    "from sklearn.model_selection import KFold\n",
    "from sklearn.model_selection import train_test_split\n",
    "from sklearn.metrics import classification_report\n",
    "from sklearn.model_selection import GridSearchCV\n",
    "from sklearn import metrics\n",
    "import numpy as np\n",
    "from sklearn.metrics import confusion_matrix\n",
    "import matplotlib.pyplot as plt\n",
    "os.environ[\"KMP_DUPLICATE_LIB_OK\"]=\"TRUE\""
   ]
  },
  {
   "cell_type": "code",
   "execution_count": 10,
   "id": "4f22d2ad",
   "metadata": {},
   "outputs": [
    {
     "name": "stdout",
     "output_type": "stream",
     "text": [
      "Index(['Nr', 'ID_x', 'Image_x', 'Mask_x', 'value_x',\n",
      "       'diagnostics_Image-original_Mean', 'diagnostics_Image-original_Minimum',\n",
      "       'diagnostics_Image-original_Maximum',\n",
      "       'diagnostics_Image-interpolated_Mean',\n",
      "       'diagnostics_Image-interpolated_Minimum',\n",
      "       ...\n",
      "       'original_ngtdm_Coarseness', 'original_ngtdm_Complexity',\n",
      "       'original_ngtdm_Contrast', 'original_ngtdm_Strength', 'ID_y', 'Image_y',\n",
      "       'Mask_y', 'value_y', 'dataset', 'GT'],\n",
      "      dtype='object', length=129)\n",
      "(1412, 23)\n"
     ]
    }
   ],
   "source": [
    "file_info = pd.read_csv('data\\\\precontrast_result_0613.csv')\n",
    "file_result = pd.read_csv('data\\\\precontrast_radiomics_result.csv')\n",
    "file_result = file_result.merge(file_info, on='Nr')\n",
    "print(file_result.columns)\n",
    "test = file_result[['ID_x', 'dataset', 'GT','original_firstorder_Skewness', 'original_firstorder_TotalEnergy', 'original_firstorder_Energy', 'original_glrlm_RunLengthNonUniformity', 'diagnostics_Image-original_Maximum', 'diagnostics_Image-interpolated_Minimum', 'original_glrlm_GrayLevelNonUniformity', 'original_shape_SurfaceArea', 'original_shape_MajorAxisLength', 'original_gldm_GrayLevelNonUniformity', 'diagnostics_Mask-interpolated_VoxelNum', 'original_shape_VoxelVolume', 'original_shape_Maximum2DDiameterColumn', 'original_shape_MeshVolume', 'original_shape_Maximum3DDiameter', 'original_shape_Maximum2DDiameterSlice', 'original_shape_MinorAxisLength', 'original_glszm_LargeAreaEmphasis', 'original_glszm_LargeAreaHighGrayLevelEmphasis', 'original_glszm_LargeAreaLowGrayLevelEmphasis']]\n",
    "print(test.shape)\n",
    "test.to_csv('radiomics_result.csv')\n",
    "column_name = file_result.columns.to_list()\n",
    "\n",
    "remove_features = ['Unnamed: 0_x', 'ID', 'Image_x', 'Mask_x', 'value_x','Unnamed: 0_y', \n",
    "                   'Image_y', 'Mask_y', 'value_y', 'dataset', 'GT']\n",
    "del column_name[0:5]\n",
    "# del column_name[1:3]\n",
    "del column_name[-6:]"
   ]
  },
  {
   "cell_type": "code",
   "execution_count": 3,
   "id": "2157b894",
   "metadata": {
    "scrolled": true
   },
   "outputs": [
    {
     "name": "stdout",
     "output_type": "stream",
     "text": [
      "diagnostics_Image-original_Mean 0.5104044355484713\n",
      "diagnostics_Image-original_Minimum 0.6334943531525613\n",
      "diagnostics_Image-original_Maximum 0.6900135264759981\n",
      "diagnostics_Image-interpolated_Mean 0.7299450220743164\n",
      "diagnostics_Image-interpolated_Minimum 0.4557590948820439\n",
      "diagnostics_Image-interpolated_Maximum 0.5255269140369129\n",
      "diagnostics_Mask-interpolated_VoxelNum 0.6309594063763038\n",
      "diagnostics_Mask-interpolated_VolumeNum 0.5412344582413148\n",
      "diagnostics_Mask-interpolated_Mean 0.7383955206476485\n",
      "diagnostics_Mask-interpolated_Minimum 0.6879480518427035\n",
      "diagnostics_Mask-interpolated_Maximum 0.6771451226610046\n",
      "original_shape_Elongation 0.5075024284790116\n",
      "original_shape_Flatness 0.6551894416424833\n",
      "original_shape_LeastAxisLength 0.49950416441056406\n",
      "original_shape_MajorAxisLength 0.6738415800221857\n",
      "original_shape_Maximum2DDiameterColumn 0.6470309689377762\n",
      "original_shape_Maximum2DDiameterRow 0.5955553257203812\n",
      "original_shape_Maximum2DDiameterSlice 0.6467500968349669\n",
      "original_shape_Maximum3DDiameter 0.647637328206657\n",
      "original_shape_MeshVolume 0.6303043761293188\n",
      "original_shape_MinorAxisLength 0.6530529884994535\n",
      "original_shape_Sphericity 0.5523892380355582\n",
      "original_shape_SurfaceArea 0.6497251103715826\n",
      "original_shape_SurfaceVolumeRatio 0.5728452445412457\n",
      "original_shape_VoxelVolume 0.6309594063763038\n",
      "original_firstorder_10Percentile 0.7360795932728597\n",
      "original_firstorder_90Percentile 0.7373815419371453\n",
      "original_firstorder_Energy 0.786632515863697\n",
      "original_firstorder_Entropy 0.5249712537035572\n",
      "original_firstorder_InterquartileRange 0.6509783880577643\n",
      "original_firstorder_Kurtosis 0.3260549941493428\n",
      "original_firstorder_Maximum 0.6771451226610046\n",
      "original_firstorder_MeanAbsoluteDeviation 0.5997055405824699\n",
      "original_firstorder_Mean 0.7383955206476485\n",
      "original_firstorder_Median 0.7421918569397716\n",
      "original_firstorder_Minimum 0.6879480518427035\n",
      "original_firstorder_Range 0.5246609762181433\n",
      "original_firstorder_RobustMeanAbsoluteDeviation 0.6332682359001189\n",
      "original_firstorder_RootMeanSquared 0.7372335010454121\n",
      "original_firstorder_Skewness 0.7898549402056755\n",
      "original_firstorder_TotalEnergy 0.786632515863697\n",
      "original_firstorder_Uniformity 0.5249712537035572\n",
      "original_firstorder_Variance 0.5773361562500634\n",
      "original_glcm_Autocorrelation 0.5249043311086641\n",
      "original_glcm_ClusterProminence 0.5249692257461362\n",
      "original_glcm_ClusterShade 0.5236774168689554\n",
      "original_glcm_ClusterTendency 0.5249611139164523\n",
      "original_glcm_Contrast 0.5236835007412184\n",
      "original_glcm_Correlation 0.5236693050392713\n",
      "original_glcm_DifferenceAverage 0.5236835007412184\n",
      "original_glcm_DifferenceEntropy 0.5236835007412184\n",
      "original_glcm_DifferenceVariance 0.5236835007412184\n",
      "original_glcm_Id 0.5236835007412184\n",
      "original_glcm_Idm 0.5236835007412184\n",
      "original_glcm_Idmn 0.5236835007412184\n",
      "original_glcm_Idn 0.5236835007412184\n",
      "original_glcm_Imc1 0.5249469182145052\n",
      "original_glcm_Imc2 0.5249671977887153\n",
      "original_glcm_InverseVariance 0.5236835007412184\n",
      "original_glcm_JointAverage 0.5249043311086641\n",
      "original_glcm_JointEnergy 0.5249611139164523\n",
      "original_glcm_JointEntropy 0.5249590859590312\n",
      "original_glcm_MCC 0.52489621927898\n",
      "original_glcm_MaximumProbability 0.5249611139164523\n",
      "original_glcm_SumAverage 0.5249043311086641\n",
      "original_glcm_SumEntropy 0.5249611139164523\n",
      "original_glcm_SumSquares 0.5249631418738733\n",
      "original_gldm_DependenceEntropy 0.5741431372906894\n",
      "original_gldm_DependenceNonUniformity 0.6040980963563689\n",
      "original_gldm_DependenceNonUniformityNormalized 0.5657960645458288\n",
      "original_gldm_DependenceVariance 0.5576578714153319\n",
      "original_gldm_GrayLevelNonUniformity 0.6318344700034678\n",
      "original_gldm_GrayLevelVariance 0.5249712537035572\n",
      "original_gldm_HighGrayLevelEmphasis 0.52489621927898\n",
      "original_gldm_LargeDependenceEmphasis 0.5605477107402652\n",
      "original_gldm_LargeDependenceHighGrayLevelEmphasis 0.4677199877511371\n",
      "original_gldm_LargeDependenceLowGrayLevelEmphasis 0.5819000744260374\n",
      "original_gldm_LowGrayLevelEmphasis 0.52489621927898\n",
      "original_gldm_SmallDependenceEmphasis 0.5870024152972885\n",
      "original_gldm_SmallDependenceHighGrayLevelEmphasis 0.5903100138509492\n",
      "original_gldm_SmallDependenceLowGrayLevelEmphasis 0.5550864214054962\n",
      "original_glrlm_GrayLevelNonUniformity 0.6594451102904643\n",
      "original_glrlm_GrayLevelNonUniformityNormalized 0.5249773375758203\n",
      "original_glrlm_GrayLevelVariance 0.5249773375758203\n",
      "original_glrlm_HighGrayLevelRunEmphasis 0.524890135406717\n",
      "original_glrlm_LongRunEmphasis 0.5837414597643108\n",
      "original_glrlm_LongRunHighGrayLevelEmphasis 0.44446540000446155\n",
      "original_glrlm_LongRunLowGrayLevelEmphasis 0.6040230619317917\n",
      "original_glrlm_LowGrayLevelRunEmphasis 0.524890135406717\n",
      "original_glrlm_RunEntropy 0.5297633170893945\n",
      "original_glrlm_RunLengthNonUniformity 0.6980493077567343\n",
      "original_glrlm_RunLengthNonUniformityNormalized 0.5195261880281561\n",
      "original_glrlm_RunPercentage 0.5634192984484098\n",
      "original_glrlm_RunVariance 0.538108361876834\n",
      "original_glrlm_ShortRunEmphasis 0.5823401411863957\n",
      "original_glrlm_ShortRunHighGrayLevelEmphasis 0.5924697885043205\n",
      "original_glrlm_ShortRunLowGrayLevelEmphasis 0.5494263922434685\n",
      "original_glszm_GrayLevelNonUniformity 0.5479459833261341\n",
      "original_glszm_GrayLevelNonUniformityNormalized 0.5249225827254531\n",
      "original_glszm_GrayLevelVariance 0.5249225827254531\n",
      "original_glszm_HighGrayLevelZoneEmphasis 0.5249793655332413\n",
      "original_glszm_LargeAreaEmphasis 0.6511578622895233\n",
      "original_glszm_LargeAreaHighGrayLevelEmphasis 0.6387386510432828\n",
      "original_glszm_LargeAreaLowGrayLevelEmphasis 0.6538956048078814\n",
      "original_glszm_LowGrayLevelZoneEmphasis 0.5249793655332413\n",
      "original_glszm_SizeZoneNonUniformity 0.5190800373955349\n",
      "original_glszm_SizeZoneNonUniformityNormalized 0.5502081698292662\n",
      "original_glszm_SmallAreaEmphasis 0.648135191753514\n",
      "original_glszm_SmallAreaHighGrayLevelEmphasis 0.6482670089858794\n",
      "original_glszm_SmallAreaLowGrayLevelEmphasis 0.6480439336695687\n",
      "original_glszm_ZoneEntropy 0.5513438259850296\n",
      "original_glszm_ZonePercentage 0.6502219599397291\n",
      "original_glszm_ZoneVariance 0.5492164986503943\n",
      "original_ngtdm_Busyness 0.5236774168689554\n",
      "original_ngtdm_Coarseness 0.5236774168689554\n",
      "original_ngtdm_Complexity 0.5236855286986394\n",
      "original_ngtdm_Contrast 0.5236895846134815\n",
      "original_ngtdm_Strength 0.5236287458908513\n"
     ]
    }
   ],
   "source": [
    "roc_list = []\n",
    "for feature in column_name:\n",
    "    y_true = np.array(file_result[['GT']])\n",
    "    x = np.array(file_result[[feature]])\n",
    "    lr = LinearRegression()\n",
    "    lr.fit(x, y_true)\n",
    "    y_pred = lr.predict(x)\n",
    "    print(feature, roc_auc_score(y_true, y_pred))\n",
    "    \n",
    "    # plt.scatter(x.flatten(),y_true.flatten(),c='blue')\n",
    "    # plt.plot(x,y_pred,'r')\n",
    "    # plt.show()\n",
    "    roc_list.append(roc_auc_score(y_true, y_pred))"
   ]
  },
  {
   "cell_type": "code",
   "execution_count": 6,
   "id": "2942307b",
   "metadata": {},
   "outputs": [],
   "source": [
    "# feature_select = pd.DataFrame({'feature':column_name,'feature_roc':roc_list})\n",
    "# feature_select = feature_select.sort_values('feature_roc',ascending=False)\n",
    "# print(feature_select)\n",
    "# feature_select_list = feature_select['feature'].iloc[0:20].tolist()\n",
    "# print(feature_select_list)\n",
    "feature_select_list = ['original_firstorder_Skewness', 'original_firstorder_TotalEnergy', 'original_firstorder_Energy', 'original_glrlm_RunLengthNonUniformity', 'diagnostics_Image-original_Maximum', 'diagnostics_Image-interpolated_Minimum', 'original_glrlm_GrayLevelNonUniformity', 'original_shape_SurfaceArea', 'original_shape_MajorAxisLength', 'original_gldm_GrayLevelNonUniformity', 'diagnostics_Mask-interpolated_VoxelNum', 'original_shape_VoxelVolume', 'original_shape_Maximum2DDiameterColumn', 'original_shape_MeshVolume', 'original_shape_Maximum3DDiameter', 'original_shape_Maximum2DDiameterSlice', 'original_shape_MinorAxisLength', 'original_glszm_LargeAreaEmphasis', 'original_glszm_LargeAreaHighGrayLevelEmphasis', 'original_glszm_LargeAreaLowGrayLevelEmphasis']\n"
   ]
  },
  {
   "cell_type": "code",
   "execution_count": 38,
   "id": "dfb85d6a",
   "metadata": {},
   "outputs": [
    {
     "name": "stdout",
     "output_type": "stream",
     "text": [
      "(253, 131)\n",
      "(758, 131)\n"
     ]
    }
   ],
   "source": [
    "file_train_val = file_result[file_result['dataset']=='data_train_val']\n",
    "file_test1 = file_result[file_result['dataset']=='data_test1']\n",
    "file_test2 = file_result[file_result['dataset']=='data_test2']\n",
    "file_testHK = file_result[file_result['dataset']=='testHK']\n",
    "print(file_testHK.shape)\n",
    "print(file_train_val.shape)"
   ]
  },
  {
   "cell_type": "code",
   "execution_count": 18,
   "id": "034ae7b8",
   "metadata": {},
   "outputs": [
    {
     "name": "stdout",
     "output_type": "stream",
     "text": [
      "(606, 20) (152, 20)\n"
     ]
    }
   ],
   "source": [
    "X = np.array(file_train_val[feature_select_list])\n",
    "Y = np.array(file_train_val['GT'])\n",
    "x_train, x_val, y_train, y_val = train_test_split(X, Y, test_size=0.2, random_state=2022)\n",
    "print(x_train.shape, x_val.shape)"
   ]
  },
  {
   "cell_type": "code",
   "execution_count": 19,
   "id": "945a8ff2",
   "metadata": {},
   "outputs": [],
   "source": [
    "param = {'max_depth':2, 'eta':0.1,  'objective':'binary:logistic' }\n",
    "param['eval_metric']='auc'\n",
    "dtrain=xgb.DMatrix(x_train, label=y_train)\n",
    "dtest = xgb.DMatrix(x_val, label=y_val)\n",
    "num_round=20\n",
    "bst = xgb.train(param, dtrain, num_round)"
   ]
  },
  {
   "cell_type": "code",
   "execution_count": 20,
   "id": "f0509c2b",
   "metadata": {},
   "outputs": [
    {
     "data": {
      "text/plain": [
       "<AxesSubplot:title={'center':'Feature importance'}, xlabel='F score', ylabel='Features'>"
      ]
     },
     "execution_count": 20,
     "metadata": {},
     "output_type": "execute_result"
    },
    {
     "data": {
      "image/png": "[encoded data removed]",
      "text/plain": [
       "<Figure size 432x288 with 1 Axes>"
      ]
     },
     "metadata": {
      "needs_background": "light"
     },
     "output_type": "display_data"
    }
   ],
   "source": [
    "y_xgb_pred = bst.predict(dtest, iteration_range=(0, bst.best_iteration))\n",
    "xgb.plot_importance(bst)"
   ]
  },
  {
   "cell_type": "code",
   "execution_count": 21,
   "id": "567135a0",
   "metadata": {},
   "outputs": [],
   "source": [
    "def evaluate_xgboost(xgboost_dataset,label, threshold):\n",
    "    y_train_predic = bst.predict(xgboost_dataset, iteration_range=(0, bst.best_iteration) )\n",
    "    fpr_tr, tpr_tr, threshold_tr = metrics.roc_curve(label, y_train_predic)\n",
    "    y_train_predic_binary = np.where(y_train_predic>threshold, 1,0)\n",
    "    roc_train = roc_auc_score(label, y_train_predic)\n",
    "    tn, fp, fn, tp = confusion_matrix(label, y_train_predic_binary).ravel()\n",
    "    sensitivity = tp / (tp + fn)\n",
    "    specificity = tn / (fp + tn)\n",
    "    PPV =tp/(tp+fp)\n",
    "    NPV = tn / (tn+fn)\n",
    "    ACC = (tp+ tn)/(tn+fp+fn+tp)\n",
    "   \n",
    "    return roc_auc_score(label, y_train_predic),sensitivity, specificity, PPV, NPV, ACC, fpr_tr, tpr_tr"
   ]
  },
  {
   "cell_type": "code",
   "execution_count": 22,
   "id": "0fe936c6",
   "metadata": {},
   "outputs": [
    {
     "name": "stdout",
     "output_type": "stream",
     "text": [
      "0.9287540547846458 0.8659217877094972 0.8024193548387096 0.8635097493036211 0.805668016194332 0.8399339933993399\n"
     ]
    }
   ],
   "source": [
    "AUC_train, sen_train, spe_train, ppv_train, npv_train, acc_train, fpr_train, tpr_train = evaluate_xgboost(dtrain, y_train, 0.5)\n",
    "print (AUC_train, sen_train, spe_train, ppv_train, npv_train, acc_train)"
   ]
  },
  {
   "cell_type": "code",
   "execution_count": 23,
   "id": "7f094248",
   "metadata": {},
   "outputs": [
    {
     "name": "stdout",
     "output_type": "stream",
     "text": [
      "0.8643207282913165 0.8452380952380952 0.6764705882352942 0.7634408602150538 0.7796610169491526 0.7697368421052632\n"
     ]
    }
   ],
   "source": [
    "dataset_test = xgb.DMatrix(x_val, label=y_val)\n",
    "AUC_test, sen_test, spe_test, ppv_test, npv_test, acc_test, fpr_test, tpr_test = evaluate_xgboost(dtest, y_val,0.4)\n",
    "print (AUC_test, sen_test, spe_test, ppv_test, npv_test, acc_test)"
   ]
  },
  {
   "cell_type": "code",
   "execution_count": 24,
   "id": "d6214446",
   "metadata": {},
   "outputs": [
    {
     "name": "stdout",
     "output_type": "stream",
     "text": [
      "(1412, 129)\n",
      "(1412, 131)\n"
     ]
    }
   ],
   "source": [
    "dtest_all = xgb.DMatrix(file_result[feature_select_list])\n",
    "y_all_predic = bst.predict(dtest_all, iteration_range=(0, bst.best_iteration) )\n",
    "y_all_predic_binary = np.where(y_all_predic>0.5, 1,0)\n",
    "print(file_result.shape)\n",
    "file_result.insert(loc=4, column = \"radiomics_prediction\", value = y_all_predic )\n",
    "file_result.insert(loc=4, column= 'radiomics_binary', value= y_all_predic_binary)\n",
    "print(file_result.shape)"
   ]
  },
  {
   "cell_type": "code",
   "execution_count": 25,
   "id": "2858c3ea",
   "metadata": {},
   "outputs": [],
   "source": [
    "file_result.to_csv('data\\\\precontrast_result_1203.csv')"
   ]
  },
  {
   "cell_type": "code",
   "execution_count": 161,
   "id": "8ddf4050",
   "metadata": {},
   "outputs": [
    {
     "name": "stdout",
     "output_type": "stream",
     "text": [
      "0.8596591967223292 0.4606741573033708 0.9613259668508287 0.9213483146067416 0.6444444444444445 0.713091922005571\n"
     ]
    }
   ],
   "source": [
    "X = np.array(file_test1[feature_select_list])\n",
    "Y = np.array(file_test1['GT'])\n",
    "test1=xgb.DMatrix(X, label=Y)\n",
    "AUC_test1, sen_test1, spe_test1, ppv_test1, npv_test1, acc_test1, fpr_test1, tpr_test1 = evaluate_xgboost(test1, Y, 0.5)\n",
    "print (AUC_test1, sen_test1, spe_test1, ppv_test1, npv_test1, acc_test1)"
   ]
  },
  {
   "cell_type": "code",
   "execution_count": 164,
   "id": "4c147995",
   "metadata": {},
   "outputs": [
    {
     "name": "stdout",
     "output_type": "stream",
     "text": [
      "0.4991789819376027 0.896551724137931 0.19047619047619047 0.6046511627906976 0.5714285714285714 0.6\n"
     ]
    }
   ],
   "source": [
    "X1 = np.array(file_test2[feature_select_list])\n",
    "Y1 = np.array(file_test2['GT'])\n",
    "test2=xgb.DMatrix(X1, label=Y1)\n",
    "AUC_test2, sen_test2, spe_test2, ppv_test2, npv_test2, acc_test2, fpr_test2, tpr_test2 = evaluate_xgboost(test2, Y1, 0.3)    \n",
    "print (AUC_test2, sen_test2, spe_test2, ppv_test2, npv_test2, acc_test2)"
   ]
  },
  {
   "cell_type": "code",
   "execution_count": 34,
   "id": "6b76df31",
   "metadata": {},
   "outputs": [
    {
     "name": "stdout",
     "output_type": "stream",
     "text": [
      "(0, 20) (0,)\n",
      "[14:14:03] WARNING: ..\\src\\learner.cc:1265: Empty dataset at worker: 0\n"
     ]
    },
    {
     "ename": "ValueError",
     "evalue": "y should be a 1d array, got an array of shape (0, 0) instead.",
     "output_type": "error",
     "traceback": [
      "\u001b[1;31m---------------------------------------------------------------------------\u001b[0m",
      "\u001b[1;31mValueError\u001b[0m                                Traceback (most recent call last)",
      "\u001b[1;32mC:\\Users\\LIUMIN~1\\AppData\\Local\\Temp/ipykernel_16412/2928777823.py\u001b[0m in \u001b[0;36m<module>\u001b[1;34m\u001b[0m\n\u001b[0;32m      3\u001b[0m \u001b[0mprint\u001b[0m\u001b[1;33m(\u001b[0m\u001b[0mX1\u001b[0m\u001b[1;33m.\u001b[0m\u001b[0mshape\u001b[0m\u001b[1;33m,\u001b[0m \u001b[0mY1\u001b[0m\u001b[1;33m.\u001b[0m\u001b[0mshape\u001b[0m\u001b[1;33m)\u001b[0m\u001b[1;33m\u001b[0m\u001b[1;33m\u001b[0m\u001b[0m\n\u001b[0;32m      4\u001b[0m \u001b[0mtesthk\u001b[0m\u001b[1;33m=\u001b[0m\u001b[0mxgb\u001b[0m\u001b[1;33m.\u001b[0m\u001b[0mDMatrix\u001b[0m\u001b[1;33m(\u001b[0m\u001b[0mX1\u001b[0m\u001b[1;33m,\u001b[0m \u001b[0mlabel\u001b[0m\u001b[1;33m=\u001b[0m\u001b[0mY1\u001b[0m\u001b[1;33m)\u001b[0m\u001b[1;33m\u001b[0m\u001b[1;33m\u001b[0m\u001b[0m\n\u001b[1;32m----> 5\u001b[1;33m \u001b[0mAUC_testHK\u001b[0m\u001b[1;33m,\u001b[0m \u001b[0msen_testHK\u001b[0m\u001b[1;33m,\u001b[0m \u001b[0mspe_testHK\u001b[0m\u001b[1;33m,\u001b[0m \u001b[0mppv_testHK\u001b[0m\u001b[1;33m,\u001b[0m \u001b[0mnpv_testHK\u001b[0m\u001b[1;33m,\u001b[0m \u001b[0macc_testHK\u001b[0m\u001b[1;33m,\u001b[0m \u001b[0mfpr_testHK\u001b[0m\u001b[1;33m,\u001b[0m \u001b[0mtpr_testHK\u001b[0m \u001b[1;33m=\u001b[0m \u001b[0mevaluate_xgboost\u001b[0m\u001b[1;33m(\u001b[0m\u001b[0mtesthk\u001b[0m\u001b[1;33m,\u001b[0m \u001b[0mY1\u001b[0m\u001b[1;33m,\u001b[0m \u001b[1;36m0.3\u001b[0m\u001b[1;33m)\u001b[0m\u001b[1;33m\u001b[0m\u001b[1;33m\u001b[0m\u001b[0m\n\u001b[0m\u001b[0;32m      6\u001b[0m \u001b[0mprint\u001b[0m \u001b[1;33m(\u001b[0m\u001b[0mAUC_testHK\u001b[0m\u001b[1;33m,\u001b[0m \u001b[0msen_testHK\u001b[0m\u001b[1;33m,\u001b[0m \u001b[0mspe_testHK\u001b[0m\u001b[1;33m,\u001b[0m \u001b[0mppv_testHK\u001b[0m\u001b[1;33m,\u001b[0m \u001b[0mnpv_testHK\u001b[0m\u001b[1;33m,\u001b[0m \u001b[0macc_testHK\u001b[0m\u001b[1;33m)\u001b[0m\u001b[1;33m\u001b[0m\u001b[1;33m\u001b[0m\u001b[0m\n",
      "\u001b[1;32mC:\\Users\\LIUMIN~1\\AppData\\Local\\Temp/ipykernel_16412/3793668550.py\u001b[0m in \u001b[0;36mevaluate_xgboost\u001b[1;34m(xgboost_dataset, label, threshold)\u001b[0m\n\u001b[0;32m      1\u001b[0m \u001b[1;32mdef\u001b[0m \u001b[0mevaluate_xgboost\u001b[0m\u001b[1;33m(\u001b[0m\u001b[0mxgboost_dataset\u001b[0m\u001b[1;33m,\u001b[0m\u001b[0mlabel\u001b[0m\u001b[1;33m,\u001b[0m \u001b[0mthreshold\u001b[0m\u001b[1;33m)\u001b[0m\u001b[1;33m:\u001b[0m\u001b[1;33m\u001b[0m\u001b[1;33m\u001b[0m\u001b[0m\n\u001b[0;32m      2\u001b[0m     \u001b[0my_train_predic\u001b[0m \u001b[1;33m=\u001b[0m \u001b[0mbst\u001b[0m\u001b[1;33m.\u001b[0m\u001b[0mpredict\u001b[0m\u001b[1;33m(\u001b[0m\u001b[0mxgboost_dataset\u001b[0m\u001b[1;33m,\u001b[0m \u001b[0miteration_range\u001b[0m\u001b[1;33m=\u001b[0m\u001b[1;33m(\u001b[0m\u001b[1;36m0\u001b[0m\u001b[1;33m,\u001b[0m \u001b[0mbst\u001b[0m\u001b[1;33m.\u001b[0m\u001b[0mbest_iteration\u001b[0m\u001b[1;33m)\u001b[0m \u001b[1;33m)\u001b[0m\u001b[1;33m\u001b[0m\u001b[1;33m\u001b[0m\u001b[0m\n\u001b[1;32m----> 3\u001b[1;33m     \u001b[0mfpr_tr\u001b[0m\u001b[1;33m,\u001b[0m \u001b[0mtpr_tr\u001b[0m\u001b[1;33m,\u001b[0m \u001b[0mthreshold_tr\u001b[0m \u001b[1;33m=\u001b[0m \u001b[0mmetrics\u001b[0m\u001b[1;33m.\u001b[0m\u001b[0mroc_curve\u001b[0m\u001b[1;33m(\u001b[0m\u001b[0mlabel\u001b[0m\u001b[1;33m,\u001b[0m \u001b[0my_train_predic\u001b[0m\u001b[1;33m)\u001b[0m\u001b[1;33m\u001b[0m\u001b[1;33m\u001b[0m\u001b[0m\n\u001b[0m\u001b[0;32m      4\u001b[0m     \u001b[0my_train_predic_binary\u001b[0m \u001b[1;33m=\u001b[0m \u001b[0mnp\u001b[0m\u001b[1;33m.\u001b[0m\u001b[0mwhere\u001b[0m\u001b[1;33m(\u001b[0m\u001b[0my_train_predic\u001b[0m\u001b[1;33m>\u001b[0m\u001b[0mthreshold\u001b[0m\u001b[1;33m,\u001b[0m \u001b[1;36m1\u001b[0m\u001b[1;33m,\u001b[0m\u001b[1;36m0\u001b[0m\u001b[1;33m)\u001b[0m\u001b[1;33m\u001b[0m\u001b[1;33m\u001b[0m\u001b[0m\n\u001b[0;32m      5\u001b[0m     \u001b[0mroc_train\u001b[0m \u001b[1;33m=\u001b[0m \u001b[0mroc_auc_score\u001b[0m\u001b[1;33m(\u001b[0m\u001b[0mlabel\u001b[0m\u001b[1;33m,\u001b[0m \u001b[0my_train_predic\u001b[0m\u001b[1;33m)\u001b[0m\u001b[1;33m\u001b[0m\u001b[1;33m\u001b[0m\u001b[0m\n",
      "\u001b[1;32mC:\\ProgramData\\Anaconda3\\lib\\site-packages\\sklearn\\utils\\validation.py\u001b[0m in \u001b[0;36minner_f\u001b[1;34m(*args, **kwargs)\u001b[0m\n\u001b[0;32m     61\u001b[0m             \u001b[0mextra_args\u001b[0m \u001b[1;33m=\u001b[0m \u001b[0mlen\u001b[0m\u001b[1;33m(\u001b[0m\u001b[0margs\u001b[0m\u001b[1;33m)\u001b[0m \u001b[1;33m-\u001b[0m \u001b[0mlen\u001b[0m\u001b[1;33m(\u001b[0m\u001b[0mall_args\u001b[0m\u001b[1;33m)\u001b[0m\u001b[1;33m\u001b[0m\u001b[1;33m\u001b[0m\u001b[0m\n\u001b[0;32m     62\u001b[0m             \u001b[1;32mif\u001b[0m \u001b[0mextra_args\u001b[0m \u001b[1;33m<=\u001b[0m \u001b[1;36m0\u001b[0m\u001b[1;33m:\u001b[0m\u001b[1;33m\u001b[0m\u001b[1;33m\u001b[0m\u001b[0m\n\u001b[1;32m---> 63\u001b[1;33m                 \u001b[1;32mreturn\u001b[0m \u001b[0mf\u001b[0m\u001b[1;33m(\u001b[0m\u001b[1;33m*\u001b[0m\u001b[0margs\u001b[0m\u001b[1;33m,\u001b[0m \u001b[1;33m**\u001b[0m\u001b[0mkwargs\u001b[0m\u001b[1;33m)\u001b[0m\u001b[1;33m\u001b[0m\u001b[1;33m\u001b[0m\u001b[0m\n\u001b[0m\u001b[0;32m     64\u001b[0m \u001b[1;33m\u001b[0m\u001b[0m\n\u001b[0;32m     65\u001b[0m             \u001b[1;31m# extra_args > 0\u001b[0m\u001b[1;33m\u001b[0m\u001b[1;33m\u001b[0m\u001b[0m\n",
      "\u001b[1;32mC:\\ProgramData\\Anaconda3\\lib\\site-packages\\sklearn\\metrics\\_ranking.py\u001b[0m in \u001b[0;36mroc_curve\u001b[1;34m(y_true, y_score, pos_label, sample_weight, drop_intermediate)\u001b[0m\n\u001b[0;32m    911\u001b[0m \u001b[1;33m\u001b[0m\u001b[0m\n\u001b[0;32m    912\u001b[0m     \"\"\"\n\u001b[1;32m--> 913\u001b[1;33m     fps, tps, thresholds = _binary_clf_curve(\n\u001b[0m\u001b[0;32m    914\u001b[0m         y_true, y_score, pos_label=pos_label, sample_weight=sample_weight)\n\u001b[0;32m    915\u001b[0m \u001b[1;33m\u001b[0m\u001b[0m\n",
      "\u001b[1;32mC:\\ProgramData\\Anaconda3\\lib\\site-packages\\sklearn\\metrics\\_ranking.py\u001b[0m in \u001b[0;36m_binary_clf_curve\u001b[1;34m(y_true, y_score, pos_label, sample_weight)\u001b[0m\n\u001b[0;32m    693\u001b[0m     \u001b[0mcheck_consistent_length\u001b[0m\u001b[1;33m(\u001b[0m\u001b[0my_true\u001b[0m\u001b[1;33m,\u001b[0m \u001b[0my_score\u001b[0m\u001b[1;33m,\u001b[0m \u001b[0msample_weight\u001b[0m\u001b[1;33m)\u001b[0m\u001b[1;33m\u001b[0m\u001b[1;33m\u001b[0m\u001b[0m\n\u001b[0;32m    694\u001b[0m     \u001b[0my_true\u001b[0m \u001b[1;33m=\u001b[0m \u001b[0mcolumn_or_1d\u001b[0m\u001b[1;33m(\u001b[0m\u001b[0my_true\u001b[0m\u001b[1;33m)\u001b[0m\u001b[1;33m\u001b[0m\u001b[1;33m\u001b[0m\u001b[0m\n\u001b[1;32m--> 695\u001b[1;33m     \u001b[0my_score\u001b[0m \u001b[1;33m=\u001b[0m \u001b[0mcolumn_or_1d\u001b[0m\u001b[1;33m(\u001b[0m\u001b[0my_score\u001b[0m\u001b[1;33m)\u001b[0m\u001b[1;33m\u001b[0m\u001b[1;33m\u001b[0m\u001b[0m\n\u001b[0m\u001b[0;32m    696\u001b[0m     \u001b[0massert_all_finite\u001b[0m\u001b[1;33m(\u001b[0m\u001b[0my_true\u001b[0m\u001b[1;33m)\u001b[0m\u001b[1;33m\u001b[0m\u001b[1;33m\u001b[0m\u001b[0m\n\u001b[0;32m    697\u001b[0m     \u001b[0massert_all_finite\u001b[0m\u001b[1;33m(\u001b[0m\u001b[0my_score\u001b[0m\u001b[1;33m)\u001b[0m\u001b[1;33m\u001b[0m\u001b[1;33m\u001b[0m\u001b[0m\n",
      "\u001b[1;32mC:\\ProgramData\\Anaconda3\\lib\\site-packages\\sklearn\\utils\\validation.py\u001b[0m in \u001b[0;36minner_f\u001b[1;34m(*args, **kwargs)\u001b[0m\n\u001b[0;32m     61\u001b[0m             \u001b[0mextra_args\u001b[0m \u001b[1;33m=\u001b[0m \u001b[0mlen\u001b[0m\u001b[1;33m(\u001b[0m\u001b[0margs\u001b[0m\u001b[1;33m)\u001b[0m \u001b[1;33m-\u001b[0m \u001b[0mlen\u001b[0m\u001b[1;33m(\u001b[0m\u001b[0mall_args\u001b[0m\u001b[1;33m)\u001b[0m\u001b[1;33m\u001b[0m\u001b[1;33m\u001b[0m\u001b[0m\n\u001b[0;32m     62\u001b[0m             \u001b[1;32mif\u001b[0m \u001b[0mextra_args\u001b[0m \u001b[1;33m<=\u001b[0m \u001b[1;36m0\u001b[0m\u001b[1;33m:\u001b[0m\u001b[1;33m\u001b[0m\u001b[1;33m\u001b[0m\u001b[0m\n\u001b[1;32m---> 63\u001b[1;33m                 \u001b[1;32mreturn\u001b[0m \u001b[0mf\u001b[0m\u001b[1;33m(\u001b[0m\u001b[1;33m*\u001b[0m\u001b[0margs\u001b[0m\u001b[1;33m,\u001b[0m \u001b[1;33m**\u001b[0m\u001b[0mkwargs\u001b[0m\u001b[1;33m)\u001b[0m\u001b[1;33m\u001b[0m\u001b[1;33m\u001b[0m\u001b[0m\n\u001b[0m\u001b[0;32m     64\u001b[0m \u001b[1;33m\u001b[0m\u001b[0m\n\u001b[0;32m     65\u001b[0m             \u001b[1;31m# extra_args > 0\u001b[0m\u001b[1;33m\u001b[0m\u001b[1;33m\u001b[0m\u001b[0m\n",
      "\u001b[1;32mC:\\ProgramData\\Anaconda3\\lib\\site-packages\\sklearn\\utils\\validation.py\u001b[0m in \u001b[0;36mcolumn_or_1d\u001b[1;34m(y, warn)\u001b[0m\n\u001b[0;32m    919\u001b[0m         \u001b[1;32mreturn\u001b[0m \u001b[0mnp\u001b[0m\u001b[1;33m.\u001b[0m\u001b[0mravel\u001b[0m\u001b[1;33m(\u001b[0m\u001b[0my\u001b[0m\u001b[1;33m)\u001b[0m\u001b[1;33m\u001b[0m\u001b[1;33m\u001b[0m\u001b[0m\n\u001b[0;32m    920\u001b[0m \u001b[1;33m\u001b[0m\u001b[0m\n\u001b[1;32m--> 921\u001b[1;33m     raise ValueError(\n\u001b[0m\u001b[0;32m    922\u001b[0m         \u001b[1;34m\"y should be a 1d array, \"\u001b[0m\u001b[1;33m\u001b[0m\u001b[1;33m\u001b[0m\u001b[0m\n\u001b[0;32m    923\u001b[0m         \"got an array of shape {} instead.\".format(shape))\n",
      "\u001b[1;31mValueError\u001b[0m: y should be a 1d array, got an array of shape (0, 0) instead."
     ]
    }
   ],
   "source": [
    "X1 = np.array(file_testHK[feature_select_list])\n",
    "Y1 = np.array(file_testHK['GT'])\n",
    "print(X1.shape, Y1.shape)\n",
    "testhk=xgb.DMatrix(X1, label=Y1)\n",
    "AUC_testHK, sen_testHK, spe_testHK, ppv_testHK, npv_testHK, acc_testHK, fpr_testHK, tpr_testHK = evaluate_xgboost(testhk, Y1, 0.3)    \n",
    "print (AUC_testHK, sen_testHK, spe_testHK, ppv_testHK, npv_testHK, acc_testHK)"
   ]
  },
  {
   "cell_type": "code",
   "execution_count": 39,
   "id": "9828d1ab",
   "metadata": {
    "scrolled": true
   },
   "outputs": [],
   "source": [
    "file_info[['value', 'dataset', 'GT']]\n",
    "file_info= file_info.drop(index=file_info[(file_info.value=='na')].index.tolist())\n",
    "file_info['value'] = pd.to_numeric(file_info['value'])\n",
    "dataset_result_1 = file_info[file_info['dataset']=='data_train_val']\n",
    "dataset_result_2 = file_info[file_info['dataset']=='data_test1']\n",
    "dataset_result_3 = file_info[file_info['dataset']=='data_test2']\n",
    "dataset_resultHK = file_info[file_info['dataset']=='testHK']"
   ]
  },
  {
   "cell_type": "code",
   "execution_count": 27,
   "id": "7253abf8",
   "metadata": {},
   "outputs": [],
   "source": [
    "def calculate_seg_results(df_list_pred, df_list_gt):\n",
    "    label_array = np.array(df_list_gt)\n",
    "    pred_array = np.array(df_list_pred)\n",
    "    tn, fp, fn, tp = confusion_matrix(label_array, pred_array).ravel()\n",
    "    sensitivity = tp / (tp + fn)\n",
    "    specificity = tn / (fp + tn)\n",
    "    PPV =tp/(tp+fp)\n",
    "    NPV = tn / (tn+fn)\n",
    "    ACC = (tp+ tn)/(tn+fp+fn+tp)\n",
    "    return sensitivity, specificity, PPV, NPV, ACC"
   ]
  },
  {
   "cell_type": "code",
   "execution_count": 28,
   "id": "df2ecb92",
   "metadata": {},
   "outputs": [
    {
     "data": {
      "text/plain": [
       "(0.920814479638009,\n",
       " 0.9208860759493671,\n",
       " 0.9421296296296297,\n",
       " 0.8926380368098159,\n",
       " 0.920844327176781)"
      ]
     },
     "execution_count": 28,
     "metadata": {},
     "output_type": "execute_result"
    }
   ],
   "source": [
    "\n",
    "calculate_seg_results(dataset_result_1[['value']],dataset_result_1[['GT']])"
   ]
  },
  {
   "cell_type": "code",
   "execution_count": 29,
   "id": "bad3e67e",
   "metadata": {},
   "outputs": [
    {
     "data": {
      "text/plain": [
       "(0.8850574712643678,\n",
       " 0.9886363636363636,\n",
       " 0.9871794871794872,\n",
       " 0.8969072164948454,\n",
       " 0.9371428571428572)"
      ]
     },
     "execution_count": 29,
     "metadata": {},
     "output_type": "execute_result"
    }
   ],
   "source": [
    "calculate_seg_results(dataset_result_2[['value']],dataset_result_2[['GT']])"
   ]
  },
  {
   "cell_type": "code",
   "execution_count": 30,
   "id": "8c9f0bb7",
   "metadata": {},
   "outputs": [
    {
     "data": {
      "text/plain": [
       "(0.8076923076923077,\n",
       " 0.7142857142857143,\n",
       " 0.7777777777777778,\n",
       " 0.75,\n",
       " 0.7659574468085106)"
      ]
     },
     "execution_count": 30,
     "metadata": {},
     "output_type": "execute_result"
    }
   ],
   "source": [
    "calculate_seg_results(dataset_result_3[['value']],dataset_result_3[['GT']])"
   ]
  },
  {
   "cell_type": "code",
   "execution_count": 40,
   "id": "f34488c5",
   "metadata": {},
   "outputs": [
    {
     "data": {
      "text/plain": [
       "(0.8880597014925373,\n",
       " 0.7058823529411765,\n",
       " 0.7727272727272727,\n",
       " 0.8484848484848485,\n",
       " 0.8023715415019763)"
      ]
     },
     "execution_count": 40,
     "metadata": {},
     "output_type": "execute_result"
    }
   ],
   "source": [
    "calculate_seg_results(dataset_resultHK[['value']],dataset_resultHK[['GT']])"
   ]
  },
  {
   "cell_type": "code",
   "execution_count": 163,
   "id": "33224307",
   "metadata": {},
   "outputs": [
    {
     "data": {
      "image/png": "[encoded data removed]",
      "text/plain": [
       "<Figure size 432x432 with 1 Axes>"
      ]
     },
     "metadata": {
      "needs_background": "light"
     },
     "output_type": "display_data"
    }
   ],
   "source": [
    "plt.figure(figsize=(6,6))\n",
    "plt.title(' ROC')\n",
    "plt.plot(fpr_train, tpr_train, 'b', label = 'train AUC = %0.3f' % AUC_train)\n",
    "plt.plot(fpr_test, tpr_test, 'y', label = 'test AUC = %0.3f' % AUC_test)\n",
    "plt.plot(fpr_test1, tpr_test1, 'g', label = 'test dataset 1 AUC = %0.3f' % AUC_test1)\n",
    "plt.plot(fpr_test2, tpr_test2, 'pink', label = 'test dataset 2 AUC = %0.3f' % AUC_test2)\n",
    "plt.legend(loc = 'lower right')\n",
    "plt.plot([0, 1], [0, 1],'r--')\n",
    "plt.xlim([0, 1])\n",
    "plt.ylim([0, 1])\n",
    "plt.ylabel('True Positive Rate')\n",
    "plt.xlabel('False Positive Rate')\n",
    "plt.show()"
   ]
  },
  {
   "cell_type": "code",
   "execution_count": 13,
   "id": "2d5afb80",
   "metadata": {},
   "outputs": [
    {
     "name": "stdout",
     "output_type": "stream",
     "text": [
      "(17105, 6)\n",
      "(8434, 5)\n",
      "(952, 5)\n"
     ]
    }
   ],
   "source": [
    "pancr_class_train = pd.read_csv('data\\\\pancr_class_result1.csv')\n",
    "print(pancr_class_train.shape)\n",
    "pancr_test1 = pd.read_csv('data\\\\pancr_class_result2.csv')\n",
    "print(pancr_test1.shape)\n",
    "pancr_test2 = pd.read_csv('data\\\\pancr_class_result3.csv')\n",
    "print(pancr_test2.shape)"
   ]
  },
  {
   "cell_type": "code",
   "execution_count": 15,
   "id": "85d4cfdf",
   "metadata": {},
   "outputs": [
    {
     "name": "stdout",
     "output_type": "stream",
     "text": [
      "                    max\n",
      "ID                     \n",
      "02264499_0000  0.000143\n",
      "03109833_0000  0.999919\n",
      "03510622_0000  0.999961\n",
      "03589139_0000  0.999889\n",
      "03606242_0000  0.994619\n",
      "...                 ...\n",
      "S70930_0000    0.000122\n",
      "S96150_0000    0.999087\n",
      "S97610_0000    0.000016\n",
      "ST00001_0000   0.000101\n",
      "ST00002_0000   0.000039\n",
      "\n",
      "[971 rows x 1 columns]\n"
     ]
    }
   ],
   "source": [
    "pancr_class = pd.concat([pancr_class_train, pancr_test1, pancr_test2])\n",
    "test = pancr_class.groupby('ID')['prediction'].agg(['max'])\n",
    "print(test)"
   ]
  },
  {
   "cell_type": "code",
   "execution_count": 16,
   "id": "e34ab9c0",
   "metadata": {},
   "outputs": [],
   "source": [
    "test.to_csv('class_result_prediction.csv')"
   ]
  },
  {
   "cell_type": "code",
   "execution_count": 18,
   "id": "6ba2dcee",
   "metadata": {},
   "outputs": [
    {
     "name": "stdout",
     "output_type": "stream",
     "text": [
      "                        max\n",
      "ID                         \n",
      "02264499_0000      0.862279\n",
      "03109833_0000      0.000016\n",
      "03510622_0000      0.999972\n",
      "03589139_0000      0.993599\n",
      "03606242_0000      0.997813\n",
      "...                     ...\n",
      "TCGA-G3-A7M8_0000  0.014091\n",
      "TCGA-G3-AAUZ_0000  0.999833\n",
      "TCGA-G3-AAV4_0000  0.006720\n",
      "TCGA-G3-AAV5_0000  0.999979\n",
      "TCGA-K7-A5RG_0000  0.045018\n",
      "\n",
      "[103 rows x 1 columns]\n"
     ]
    }
   ],
   "source": [
    "pancr_class_train = pd.read_csv('data\\\\pancr_extended_result.csv')\n",
    "test_extended = pancr_class_train.groupby('ID')['prediction'].agg(['max'])\n",
    "print(test_extended)"
   ]
  },
  {
   "cell_type": "code",
   "execution_count": 20,
   "id": "f97c7fa8",
   "metadata": {},
   "outputs": [],
   "source": [
    "test_extended.to_csv('class_extended_prediction.csv')"
   ]
  },
  {
   "cell_type": "code",
   "execution_count": null,
   "id": "cb9cd4ab",
   "metadata": {},
   "outputs": [],
   "source": []
  }
 ],
 "metadata": {
  "kernelspec": {
   "display_name": "Python 3 (ipykernel)",
   "language": "python",
   "name": "python3"
  },
  "language_info": {
   "codemirror_mode": {
    "name": "ipython",
    "version": 3
   },
   "file_extension": ".py",
   "mimetype": "text/x-python",
   "name": "python",
   "nbconvert_exporter": "python",
   "pygments_lexer": "ipython3",
   "version": "3.9.7"
  }
 },
 "nbformat": 4,
 "nbformat_minor": 5
}
